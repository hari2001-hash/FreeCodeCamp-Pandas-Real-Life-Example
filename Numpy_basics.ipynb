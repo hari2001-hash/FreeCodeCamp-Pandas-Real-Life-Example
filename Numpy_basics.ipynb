{
  "nbformat": 4,
  "nbformat_minor": 0,
  "metadata": {
    "colab": {
      "name": "Numpy_basics.ipynb",
      "provenance": [],
      "collapsed_sections": [],
      "authorship_tag": "ABX9TyP2ds4KFYJEdpHMHCh2tc6L",
      "include_colab_link": true
    },
    "kernelspec": {
      "name": "python3",
      "display_name": "Python 3"
    },
    "language_info": {
      "name": "python"
    }
  },
  "cells": [
    {
      "cell_type": "markdown",
      "metadata": {
        "id": "view-in-github",
        "colab_type": "text"
      },
      "source": [
        "<a href=\"https://colab.research.google.com/github/hari2001-hash/FreeCodeCamp-Pandas-Real-Life-Example/blob/master/Numpy_basics.ipynb\" target=\"_parent\"><img src=\"https://colab.research.google.com/assets/colab-badge.svg\" alt=\"Open In Colab\"/></a>"
      ]
    },
    {
      "cell_type": "code",
      "metadata": {
        "id": "7_vphrpWeCFh"
      },
      "source": [
        "import numpy as np"
      ],
      "execution_count": 2,
      "outputs": []
    },
    {
      "cell_type": "code",
      "metadata": {
        "id": "9C-MQ49seWtJ"
      },
      "source": [
        "n_arra = np.array([[1,2,3],[4,5,6]])"
      ],
      "execution_count": 4,
      "outputs": []
    },
    {
      "cell_type": "code",
      "metadata": {
        "colab": {
          "base_uri": "https://localhost:8080/"
        },
        "id": "Rc9SrvLUeylH",
        "outputId": "451af492-bb98-46dc-d576-4176964b40b6"
      },
      "source": [
        "type(n_arra)"
      ],
      "execution_count": 5,
      "outputs": [
        {
          "output_type": "execute_result",
          "data": {
            "text/plain": [
              "numpy.ndarray"
            ]
          },
          "metadata": {
            "tags": []
          },
          "execution_count": 5
        }
      ]
    },
    {
      "cell_type": "code",
      "metadata": {
        "colab": {
          "base_uri": "https://localhost:8080/"
        },
        "id": "bLFNkb1XfB6X",
        "outputId": "f1c5ff3f-e6ec-441d-e8aa-1cc7df852cd5"
      },
      "source": [
        "n_arra"
      ],
      "execution_count": 6,
      "outputs": [
        {
          "output_type": "execute_result",
          "data": {
            "text/plain": [
              "array([[1, 2, 3],\n",
              "       [4, 5, 6]])"
            ]
          },
          "metadata": {
            "tags": []
          },
          "execution_count": 6
        }
      ]
    },
    {
      "cell_type": "code",
      "metadata": {
        "colab": {
          "base_uri": "https://localhost:8080/"
        },
        "id": "46iZWgGifH3c",
        "outputId": "399e806f-ebdd-4f3e-a295-1454e45452f9"
      },
      "source": [
        "np1 = np.array([[4,8,16],[5,15,20]])\n",
        "np1"
      ],
      "execution_count": 7,
      "outputs": [
        {
          "output_type": "execute_result",
          "data": {
            "text/plain": [
              "array([[ 4,  8, 16],\n",
              "       [ 5, 15, 20]])"
            ]
          },
          "metadata": {
            "tags": []
          },
          "execution_count": 7
        }
      ]
    },
    {
      "cell_type": "code",
      "metadata": {
        "colab": {
          "base_uri": "https://localhost:8080/"
        },
        "id": "3pEdBGVcfsHu",
        "outputId": "5171e2c1-2eb4-42ec-856b-b36ca27170ef"
      },
      "source": [
        "floats = np.array([[2.45,0.000,0.780,44.50],[33.6,87.5,32.4,99]])\n",
        "floats"
      ],
      "execution_count": 10,
      "outputs": [
        {
          "output_type": "execute_result",
          "data": {
            "text/plain": [
              "array([[ 2.45,  0.  ,  0.78, 44.5 ],\n",
              "       [33.6 , 87.5 , 32.4 , 99.  ]])"
            ]
          },
          "metadata": {
            "tags": []
          },
          "execution_count": 10
        }
      ]
    },
    {
      "cell_type": "code",
      "metadata": {
        "colab": {
          "base_uri": "https://localhost:8080/"
        },
        "id": "CB7eB38_jMfP",
        "outputId": "0c3987f7-9a9a-4c18-c93f-6103ef0da654"
      },
      "source": [
        "floats.ndim"
      ],
      "execution_count": 11,
      "outputs": [
        {
          "output_type": "execute_result",
          "data": {
            "text/plain": [
              "2"
            ]
          },
          "metadata": {
            "tags": []
          },
          "execution_count": 11
        }
      ]
    },
    {
      "cell_type": "code",
      "metadata": {
        "colab": {
          "base_uri": "https://localhost:8080/"
        },
        "id": "qSfDVcOZi7R3",
        "outputId": "5804cbba-f724-4b11-8977-74f2d2b3d1f0"
      },
      "source": [
        "floats.shape"
      ],
      "execution_count": 12,
      "outputs": [
        {
          "output_type": "execute_result",
          "data": {
            "text/plain": [
              "(2, 4)"
            ]
          },
          "metadata": {
            "tags": []
          },
          "execution_count": 12
        }
      ]
    },
    {
      "cell_type": "code",
      "metadata": {
        "colab": {
          "base_uri": "https://localhost:8080/"
        },
        "id": "6znytPo_jRzO",
        "outputId": "f8723df8-53f5-4bbd-a864-f52ee7287c9f"
      },
      "source": [
        "floats.size"
      ],
      "execution_count": 13,
      "outputs": [
        {
          "output_type": "execute_result",
          "data": {
            "text/plain": [
              "8"
            ]
          },
          "metadata": {
            "tags": []
          },
          "execution_count": 13
        }
      ]
    },
    {
      "cell_type": "code",
      "metadata": {
        "colab": {
          "base_uri": "https://localhost:8080/"
        },
        "id": "Rw8GzVRFjhDM",
        "outputId": "ab035e5c-3f93-4398-e114-d57e587f6ea7"
      },
      "source": [
        "intr = np.array([[6,12,18],[8,16,24]])\n",
        "intr"
      ],
      "execution_count": 15,
      "outputs": [
        {
          "output_type": "execute_result",
          "data": {
            "text/plain": [
              "array([[ 6, 12, 18],\n",
              "       [ 8, 16, 24]])"
            ]
          },
          "metadata": {
            "tags": []
          },
          "execution_count": 15
        }
      ]
    },
    {
      "cell_type": "code",
      "metadata": {
        "colab": {
          "base_uri": "https://localhost:8080/"
        },
        "id": "oOjITCd5jwDO",
        "outputId": "66787c8a-d596-452c-85cd-303de29168eb"
      },
      "source": [
        "intr.shape\n"
      ],
      "execution_count": 18,
      "outputs": [
        {
          "output_type": "execute_result",
          "data": {
            "text/plain": [
              "(2, 3)"
            ]
          },
          "metadata": {
            "tags": []
          },
          "execution_count": 18
        }
      ]
    },
    {
      "cell_type": "code",
      "metadata": {
        "colab": {
          "base_uri": "https://localhost:8080/"
        },
        "id": "rgB53853j57y",
        "outputId": "0cf658c0-0807-416d-c389-fca7f114e648"
      },
      "source": [
        "intr.size"
      ],
      "execution_count": 19,
      "outputs": [
        {
          "output_type": "execute_result",
          "data": {
            "text/plain": [
              "6"
            ]
          },
          "metadata": {
            "tags": []
          },
          "execution_count": 19
        }
      ]
    },
    {
      "cell_type": "code",
      "metadata": {
        "colab": {
          "base_uri": "https://localhost:8080/"
        },
        "id": "St8Sygx6j_ZF",
        "outputId": "082080e1-c67b-4e2b-f208-a1676e11f554"
      },
      "source": [
        "for rows in intr:\n",
        "  print(rows)"
      ],
      "execution_count": 20,
      "outputs": [
        {
          "output_type": "stream",
          "text": [
            "[ 6 12 18]\n",
            "[ 8 16 24]\n"
          ],
          "name": "stdout"
        }
      ]
    },
    {
      "cell_type": "code",
      "metadata": {
        "colab": {
          "base_uri": "https://localhost:8080/"
        },
        "id": "hnaNMOODkjNJ",
        "outputId": "5c6397fa-cc3f-428c-eb4a-edd59cdb763f"
      },
      "source": [
        "for i in intr.flat:\n",
        "  print(i)"
      ],
      "execution_count": 22,
      "outputs": [
        {
          "output_type": "stream",
          "text": [
            "6\n",
            "12\n",
            "18\n",
            "8\n",
            "16\n",
            "24\n"
          ],
          "name": "stdout"
        }
      ]
    },
    {
      "cell_type": "code",
      "metadata": {
        "colab": {
          "base_uri": "https://localhost:8080/"
        },
        "id": "WW2dT-Ijkny-",
        "outputId": "026b98c4-e073-4a42-9eb3-e5c04c8cd7e4"
      },
      "source": [
        "np.zeros(7)"
      ],
      "execution_count": 23,
      "outputs": [
        {
          "output_type": "execute_result",
          "data": {
            "text/plain": [
              "array([0., 0., 0., 0., 0., 0., 0.])"
            ]
          },
          "metadata": {
            "tags": []
          },
          "execution_count": 23
        }
      ]
    },
    {
      "cell_type": "code",
      "metadata": {
        "colab": {
          "base_uri": "https://localhost:8080/"
        },
        "id": "NIGWjKSpmBza",
        "outputId": "c0e1621f-d9c3-47c5-9561-57797dbb00ea"
      },
      "source": [
        "np.ones((3,4), dtype=int)"
      ],
      "execution_count": 25,
      "outputs": [
        {
          "output_type": "execute_result",
          "data": {
            "text/plain": [
              "array([[1, 1, 1, 1],\n",
              "       [1, 1, 1, 1],\n",
              "       [1, 1, 1, 1]])"
            ]
          },
          "metadata": {
            "tags": []
          },
          "execution_count": 25
        }
      ]
    },
    {
      "cell_type": "code",
      "metadata": {
        "colab": {
          "base_uri": "https://localhost:8080/"
        },
        "id": "lgTJZiDjmbth",
        "outputId": "0f848925-1231-45bd-cf0d-95d0dbaf67d9"
      },
      "source": [
        "np.full((3,7),90)"
      ],
      "execution_count": 27,
      "outputs": [
        {
          "output_type": "execute_result",
          "data": {
            "text/plain": [
              "array([[90, 90, 90, 90, 90, 90, 90],\n",
              "       [90, 90, 90, 90, 90, 90, 90],\n",
              "       [90, 90, 90, 90, 90, 90, 90]])"
            ]
          },
          "metadata": {
            "tags": []
          },
          "execution_count": 27
        }
      ]
    },
    {
      "cell_type": "code",
      "metadata": {
        "colab": {
          "base_uri": "https://localhost:8080/"
        },
        "id": "bJ8qm3_bmmjI",
        "outputId": "cc2dad1d-a670-41f7-edac-835d5e0d045e"
      },
      "source": [
        "np.arange(30,1,-3)"
      ],
      "execution_count": 34,
      "outputs": [
        {
          "output_type": "execute_result",
          "data": {
            "text/plain": [
              "array([30, 27, 24, 21, 18, 15, 12,  9,  6,  3])"
            ]
          },
          "metadata": {
            "tags": []
          },
          "execution_count": 34
        }
      ]
    },
    {
      "cell_type": "code",
      "metadata": {
        "colab": {
          "base_uri": "https://localhost:8080/"
        },
        "id": "tONhJomtnHzJ",
        "outputId": "0fce0c31-c48e-423e-a6ae-204beb7e2ba3"
      },
      "source": [
        "np.arange(3,70)"
      ],
      "execution_count": 35,
      "outputs": [
        {
          "output_type": "execute_result",
          "data": {
            "text/plain": [
              "array([ 3,  4,  5,  6,  7,  8,  9, 10, 11, 12, 13, 14, 15, 16, 17, 18, 19,\n",
              "       20, 21, 22, 23, 24, 25, 26, 27, 28, 29, 30, 31, 32, 33, 34, 35, 36,\n",
              "       37, 38, 39, 40, 41, 42, 43, 44, 45, 46, 47, 48, 49, 50, 51, 52, 53,\n",
              "       54, 55, 56, 57, 58, 59, 60, 61, 62, 63, 64, 65, 66, 67, 68, 69])"
            ]
          },
          "metadata": {
            "tags": []
          },
          "execution_count": 35
        }
      ]
    },
    {
      "cell_type": "code",
      "metadata": {
        "colab": {
          "base_uri": "https://localhost:8080/"
        },
        "id": "6Ekru4LxnZ1G",
        "outputId": "5c2e6229-f3fd-46cb-c1db-ef067aadc422"
      },
      "source": [
        "#to display decimal ordered values in array\n",
        "np.linspace(2,31)"
      ],
      "execution_count": 40,
      "outputs": [
        {
          "output_type": "execute_result",
          "data": {
            "text/plain": [
              "array([ 2.        ,  2.59183673,  3.18367347,  3.7755102 ,  4.36734694,\n",
              "        4.95918367,  5.55102041,  6.14285714,  6.73469388,  7.32653061,\n",
              "        7.91836735,  8.51020408,  9.10204082,  9.69387755, 10.28571429,\n",
              "       10.87755102, 11.46938776, 12.06122449, 12.65306122, 13.24489796,\n",
              "       13.83673469, 14.42857143, 15.02040816, 15.6122449 , 16.20408163,\n",
              "       16.79591837, 17.3877551 , 17.97959184, 18.57142857, 19.16326531,\n",
              "       19.75510204, 20.34693878, 20.93877551, 21.53061224, 22.12244898,\n",
              "       22.71428571, 23.30612245, 23.89795918, 24.48979592, 25.08163265,\n",
              "       25.67346939, 26.26530612, 26.85714286, 27.44897959, 28.04081633,\n",
              "       28.63265306, 29.2244898 , 29.81632653, 30.40816327, 31.        ])"
            ]
          },
          "metadata": {
            "tags": []
          },
          "execution_count": 40
        }
      ]
    },
    {
      "cell_type": "code",
      "metadata": {
        "colab": {
          "base_uri": "https://localhost:8080/"
        },
        "id": "8EZQGfTsn2Lq",
        "outputId": "685cd5ff-d877-42cf-91e7-1bbcb2bd417e"
      },
      "source": [
        "np.linspace(0,50,num=5)"
      ],
      "execution_count": 44,
      "outputs": [
        {
          "output_type": "execute_result",
          "data": {
            "text/plain": [
              "array([ 0. , 12.5, 25. , 37.5, 50. ])"
            ]
          },
          "metadata": {
            "tags": []
          },
          "execution_count": 44
        }
      ]
    },
    {
      "cell_type": "code",
      "metadata": {
        "colab": {
          "base_uri": "https://localhost:8080/"
        },
        "id": "6CFng2dgohd2",
        "outputId": "6f04e3ad-0e99-47d5-98de-69648a26101d"
      },
      "source": [
        "np.random.randint(0, 40 ,8)"
      ],
      "execution_count": 46,
      "outputs": [
        {
          "output_type": "execute_result",
          "data": {
            "text/plain": [
              "array([24, 16, 29,  6, 37, 18, 37, 15])"
            ]
          },
          "metadata": {
            "tags": []
          },
          "execution_count": 46
        }
      ]
    },
    {
      "cell_type": "code",
      "metadata": {
        "colab": {
          "base_uri": "https://localhost:8080/"
        },
        "id": "98U3yUpupZ6m",
        "outputId": "a03932e9-3e6e-4437-a2f6-3e89001cd855"
      },
      "source": [
        "#array sum\n",
        "Rh = np.random.randint(0,1000,138)\n",
        "Rh\n",
        "Rh.sum()"
      ],
      "execution_count": 52,
      "outputs": [
        {
          "output_type": "execute_result",
          "data": {
            "text/plain": [
              "71885"
            ]
          },
          "metadata": {
            "tags": []
          },
          "execution_count": 52
        }
      ]
    },
    {
      "cell_type": "code",
      "metadata": {
        "colab": {
          "base_uri": "https://localhost:8080/"
        },
        "id": "8VeId4edp2TE",
        "outputId": "62beb278-5d6d-474c-c6f8-53eac4487a74"
      },
      "source": [
        "#To finf Maximum, minimum,mean and Standard deviation of an array\n",
        "Rh.max()\n",
        "Rh.mean()\n",
        "Rh.min()\n",
        "Rh.std()"
      ],
      "execution_count": 56,
      "outputs": [
        {
          "output_type": "execute_result",
          "data": {
            "text/plain": [
              "307.5163454517772"
            ]
          },
          "metadata": {
            "tags": []
          },
          "execution_count": 56
        }
      ]
    },
    {
      "cell_type": "code",
      "metadata": {
        "id": "uNsp2ZQTqdUm"
      },
      "source": [
        "#various operations in np array\n",
        "h = np.arange(1,20,4)"
      ],
      "execution_count": 57,
      "outputs": []
    },
    {
      "cell_type": "code",
      "metadata": {
        "id": "FMjUW5EnsNOn"
      },
      "source": [
        "o = np.random.randint(1,20,5)"
      ],
      "execution_count": 61,
      "outputs": []
    },
    {
      "cell_type": "code",
      "metadata": {
        "colab": {
          "base_uri": "https://localhost:8080/"
        },
        "id": "xfAX2wTWsOMO",
        "outputId": "046c7ba4-6a36-4791-ab13-52ea1833910a"
      },
      "source": [
        "o"
      ],
      "execution_count": 62,
      "outputs": [
        {
          "output_type": "execute_result",
          "data": {
            "text/plain": [
              "array([18,  6,  5,  4, 16])"
            ]
          },
          "metadata": {
            "tags": []
          },
          "execution_count": 62
        }
      ]
    },
    {
      "cell_type": "code",
      "metadata": {
        "colab": {
          "base_uri": "https://localhost:8080/"
        },
        "id": "mgnZ_CmUsYCE",
        "outputId": "a8039feb-856a-450e-988a-6080764fd335"
      },
      "source": [
        "h"
      ],
      "execution_count": 63,
      "outputs": [
        {
          "output_type": "execute_result",
          "data": {
            "text/plain": [
              "array([ 1,  5,  9, 13, 17])"
            ]
          },
          "metadata": {
            "tags": []
          },
          "execution_count": 63
        }
      ]
    },
    {
      "cell_type": "code",
      "metadata": {
        "colab": {
          "base_uri": "https://localhost:8080/"
        },
        "id": "3SwlAgmZscf-",
        "outputId": "2daf27ef-3ef7-49f8-a957-1701e0a8c6b3"
      },
      "source": [
        "o+h"
      ],
      "execution_count": 64,
      "outputs": [
        {
          "output_type": "execute_result",
          "data": {
            "text/plain": [
              "array([19, 11, 14, 17, 33])"
            ]
          },
          "metadata": {
            "tags": []
          },
          "execution_count": 64
        }
      ]
    },
    {
      "cell_type": "code",
      "metadata": {
        "colab": {
          "base_uri": "https://localhost:8080/"
        },
        "id": "Ox9symEIseSE",
        "outputId": "8395c5e6-c63e-49ac-d6e9-f89b8336c2e2"
      },
      "source": [
        "o-h"
      ],
      "execution_count": 65,
      "outputs": [
        {
          "output_type": "execute_result",
          "data": {
            "text/plain": [
              "array([17,  1, -4, -9, -1])"
            ]
          },
          "metadata": {
            "tags": []
          },
          "execution_count": 65
        }
      ]
    },
    {
      "cell_type": "code",
      "metadata": {
        "colab": {
          "base_uri": "https://localhost:8080/"
        },
        "id": "EN-NbdwUsgii",
        "outputId": "c215a70e-f403-4e9f-c5e0-e79bccb0f021"
      },
      "source": [
        "o*h"
      ],
      "execution_count": 66,
      "outputs": [
        {
          "output_type": "execute_result",
          "data": {
            "text/plain": [
              "array([ 18,  30,  45,  52, 272])"
            ]
          },
          "metadata": {
            "tags": []
          },
          "execution_count": 66
        }
      ]
    },
    {
      "cell_type": "code",
      "metadata": {
        "colab": {
          "base_uri": "https://localhost:8080/"
        },
        "id": "E_y_gr1CsiIm",
        "outputId": "fdc0729c-2dca-42d5-97e3-e57b340afd08"
      },
      "source": [
        "o += h*2\n",
        "o"
      ],
      "execution_count": 69,
      "outputs": [
        {
          "output_type": "execute_result",
          "data": {
            "text/plain": [
              "array([22, 26, 41, 56, 84])"
            ]
          },
          "metadata": {
            "tags": []
          },
          "execution_count": 69
        }
      ]
    },
    {
      "cell_type": "code",
      "metadata": {
        "colab": {
          "base_uri": "https://localhost:8080/"
        },
        "id": "0ppTE26nsntT",
        "outputId": "614a6337-a667-47bd-b8ec-4e23a6f478cc"
      },
      "source": [
        "np.sqrt(o)"
      ],
      "execution_count": 70,
      "outputs": [
        {
          "output_type": "execute_result",
          "data": {
            "text/plain": [
              "array([4.69041576, 5.09901951, 6.40312424, 7.48331477, 9.16515139])"
            ]
          },
          "metadata": {
            "tags": []
          },
          "execution_count": 70
        }
      ]
    },
    {
      "cell_type": "code",
      "metadata": {
        "colab": {
          "base_uri": "https://localhost:8080/"
        },
        "id": "VwknR7YotA74",
        "outputId": "4800bbf3-cb19-4c8b-e7dd-ee599d24c34b"
      },
      "source": [
        "o/h"
      ],
      "execution_count": 71,
      "outputs": [
        {
          "output_type": "execute_result",
          "data": {
            "text/plain": [
              "array([22.        ,  5.2       ,  4.55555556,  4.30769231,  4.94117647])"
            ]
          },
          "metadata": {
            "tags": []
          },
          "execution_count": 71
        }
      ]
    },
    {
      "cell_type": "code",
      "metadata": {
        "id": "9DDi_TpvtGgI"
      },
      "source": [
        "p = np.array([[3,6,45],[9,45,3]])\n",
        "f = np.array([[78,90,3,5],[52,41,345,89]])\n"
      ],
      "execution_count": 72,
      "outputs": []
    },
    {
      "cell_type": "code",
      "metadata": {
        "colab": {
          "base_uri": "https://localhost:8080/",
          "height": 180
        },
        "id": "lP3RPMpItYnW",
        "outputId": "f631d0bf-f1c6-4d83-a7c7-8beb75a4d106"
      },
      "source": [
        "#gives error whwn length of arrays are not equal\n",
        "#f+p"
      ],
      "execution_count": 74,
      "outputs": [
        {
          "output_type": "error",
          "ename": "ValueError",
          "evalue": "ignored",
          "traceback": [
            "\u001b[0;31m---------------------------------------------------------------------------\u001b[0m",
            "\u001b[0;31mValueError\u001b[0m                                Traceback (most recent call last)",
            "\u001b[0;32m<ipython-input-74-5b0be48e9b3c>\u001b[0m in \u001b[0;36m<module>\u001b[0;34m()\u001b[0m\n\u001b[1;32m      1\u001b[0m \u001b[0;31m#gives error whwn length of arrays are not equal\u001b[0m\u001b[0;34m\u001b[0m\u001b[0;34m\u001b[0m\u001b[0;34m\u001b[0m\u001b[0m\n\u001b[0;32m----> 2\u001b[0;31m \u001b[0mf\u001b[0m\u001b[0;34m+\u001b[0m\u001b[0mp\u001b[0m\u001b[0;34m\u001b[0m\u001b[0;34m\u001b[0m\u001b[0m\n\u001b[0m",
            "\u001b[0;31mValueError\u001b[0m: operands could not be broadcast together with shapes (2,4) (2,3) "
          ]
        }
      ]
    },
    {
      "cell_type": "code",
      "metadata": {
        "id": "dXDyP4RCtaIJ"
      },
      "source": [
        "\n"
      ],
      "execution_count": 83,
      "outputs": []
    },
    {
      "cell_type": "code",
      "metadata": {
        "id": "JhDgNCawtqId"
      },
      "source": [
        "f+=234"
      ],
      "execution_count": 87,
      "outputs": []
    },
    {
      "cell_type": "code",
      "metadata": {
        "colab": {
          "base_uri": "https://localhost:8080/"
        },
        "id": "GZslWObttwcA",
        "outputId": "2d388cde-4acf-410b-d94a-b3a9c1b16700"
      },
      "source": [
        "f"
      ],
      "execution_count": 88,
      "outputs": [
        {
          "output_type": "execute_result",
          "data": {
            "text/plain": [
              "array([[468, 468, 468, 468],\n",
              "       [468, 468, 468, 468]])"
            ]
          },
          "metadata": {
            "tags": []
          },
          "execution_count": 88
        }
      ]
    },
    {
      "cell_type": "code",
      "metadata": {
        "colab": {
          "base_uri": "https://localhost:8080/"
        },
        "id": "bFFPPMxtt5Z4",
        "outputId": "d8708c10-7e89-4ebb-b3f4-dd67932e1d87"
      },
      "source": [
        "np.sqrt(f)"
      ],
      "execution_count": 90,
      "outputs": [
        {
          "output_type": "execute_result",
          "data": {
            "text/plain": [
              "array([[21.63330765, 21.63330765, 21.63330765, 21.63330765],\n",
              "       [21.63330765, 21.63330765, 21.63330765, 21.63330765]])"
            ]
          },
          "metadata": {
            "tags": []
          },
          "execution_count": 90
        }
      ]
    },
    {
      "cell_type": "code",
      "metadata": {
        "id": "ptV3Q5T1uIvY"
      },
      "source": [
        ""
      ],
      "execution_count": null,
      "outputs": []
    }
  ]
}